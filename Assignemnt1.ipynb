{
 "cells": [
  {
   "cell_type": "code",
   "execution_count": 1,
   "id": "0ba16db6-1b66-49cc-b049-be829379da1f",
   "metadata": {},
   "outputs": [],
   "source": [
    "#Q1. Create one variable containing following type of data:\n",
    "a=\"Data Science\"\n",
    "\n"
   ]
  },
  {
   "cell_type": "code",
   "execution_count": 2,
   "id": "c450de5c-cb00-4b70-9b3b-1823c5b3909f",
   "metadata": {},
   "outputs": [
    {
     "data": {
      "text/plain": [
       "'Data Science'"
      ]
     },
     "execution_count": 2,
     "metadata": {},
     "output_type": "execute_result"
    }
   ],
   "source": [
    "a"
   ]
  },
  {
   "cell_type": "code",
   "execution_count": 3,
   "id": "8495ce4a-de3e-4c53-906e-67f03605db8b",
   "metadata": {},
   "outputs": [
    {
     "data": {
      "text/plain": [
       "str"
      ]
     },
     "execution_count": 3,
     "metadata": {},
     "output_type": "execute_result"
    }
   ],
   "source": [
    "type(a)"
   ]
  },
  {
   "cell_type": "code",
   "execution_count": 4,
   "id": "920878df-195f-4f28-bddc-031dd6cc01f8",
   "metadata": {},
   "outputs": [],
   "source": [
    "l=[2,3,4,\"Data\", \"Science\",12.345]"
   ]
  },
  {
   "cell_type": "code",
   "execution_count": 5,
   "id": "3a0a961d-645c-4795-83be-841d5129b663",
   "metadata": {},
   "outputs": [
    {
     "data": {
      "text/plain": [
       "[2, 3, 4, 'Data', 'Science', 12.345]"
      ]
     },
     "execution_count": 5,
     "metadata": {},
     "output_type": "execute_result"
    }
   ],
   "source": [
    "l"
   ]
  },
  {
   "cell_type": "code",
   "execution_count": 6,
   "id": "81e0da7e-c26c-4416-8705-74f344c6f7d8",
   "metadata": {},
   "outputs": [
    {
     "data": {
      "text/plain": [
       "list"
      ]
     },
     "execution_count": 6,
     "metadata": {},
     "output_type": "execute_result"
    }
   ],
   "source": [
    "type(l)"
   ]
  },
  {
   "cell_type": "code",
   "execution_count": 7,
   "id": "8279793e-f21a-4fc5-b539-ad1565a63bbf",
   "metadata": {},
   "outputs": [],
   "source": [
    "b=34.980"
   ]
  },
  {
   "cell_type": "code",
   "execution_count": 8,
   "id": "af43e081-d33c-45a1-8aeb-86e43fe220ba",
   "metadata": {},
   "outputs": [
    {
     "data": {
      "text/plain": [
       "float"
      ]
     },
     "execution_count": 8,
     "metadata": {},
     "output_type": "execute_result"
    }
   ],
   "source": [
    "type(b)"
   ]
  },
  {
   "cell_type": "code",
   "execution_count": 13,
   "id": "b72eb5f8-5171-48e2-88ca-609d0f3c3756",
   "metadata": {},
   "outputs": [],
   "source": [
    "mytuple=(\"Monday\",\"Tuesday\",\"Wednesday\")"
   ]
  },
  {
   "cell_type": "code",
   "execution_count": 14,
   "id": "fc40617f-598e-4ed6-b9c3-7000b9f4fbb7",
   "metadata": {},
   "outputs": [
    {
     "data": {
      "text/plain": [
       "tuple"
      ]
     },
     "execution_count": 14,
     "metadata": {},
     "output_type": "execute_result"
    }
   ],
   "source": [
    "type(mytuple)"
   ]
  },
  {
   "cell_type": "code",
   "execution_count": null,
   "id": "93f0e99a-768e-47e1-a761-1fbf42af58ee",
   "metadata": {},
   "outputs": [],
   "source": [
    "#Q2. Given are some following variables containing data:\n",
    "var1 = ‘ ‘\n"
   ]
  },
  {
   "cell_type": "code",
   "execution_count": 23,
   "id": "59925aed-780f-4450-93e4-1dd855f0c334",
   "metadata": {},
   "outputs": [
    {
     "ename": "NameError",
     "evalue": "name 'var1' is not defined",
     "output_type": "error",
     "traceback": [
      "\u001b[0;31m---------------------------------------------------------------------------\u001b[0m",
      "\u001b[0;31mNameError\u001b[0m                                 Traceback (most recent call last)",
      "Cell \u001b[0;32mIn[23], line 1\u001b[0m\n\u001b[0;32m----> 1\u001b[0m \u001b[38;5;28mtype\u001b[39m(\u001b[43mvar1\u001b[49m)\n",
      "\u001b[0;31mNameError\u001b[0m: name 'var1' is not defined"
     ]
    }
   ],
   "source": [
    "type(var1)"
   ]
  },
  {
   "cell_type": "code",
   "execution_count": 24,
   "id": "adf78540-6654-4f61-8c83-2152c1e95536",
   "metadata": {},
   "outputs": [
    {
     "ename": "SyntaxError",
     "evalue": "invalid character '‘' (U+2018) (3990704681.py, line 1)",
     "output_type": "error",
     "traceback": [
      "\u001b[0;36m  Cell \u001b[0;32mIn[24], line 1\u001b[0;36m\u001b[0m\n\u001b[0;31m    var2 = ‘[ DS , ML , Python]’\u001b[0m\n\u001b[0m           ^\u001b[0m\n\u001b[0;31mSyntaxError\u001b[0m\u001b[0;31m:\u001b[0m invalid character '‘' (U+2018)\n"
     ]
    }
   ],
   "source": [
    "var2 = ‘[ DS , ML , Python]’\n",
    "type(var2)"
   ]
  },
  {
   "cell_type": "code",
   "execution_count": 25,
   "id": "bc6dc608-6a3b-42f9-88e6-36ae3019021d",
   "metadata": {},
   "outputs": [
    {
     "ename": "SyntaxError",
     "evalue": "invalid character '‘' (U+2018) (899486036.py, line 1)",
     "output_type": "error",
     "traceback": [
      "\u001b[0;36m  Cell \u001b[0;32mIn[25], line 1\u001b[0;36m\u001b[0m\n\u001b[0;31m    var3 = [ ‘DS’ , ’ML’ , ‘Python’ ]\u001b[0m\n\u001b[0m             ^\u001b[0m\n\u001b[0;31mSyntaxError\u001b[0m\u001b[0;31m:\u001b[0m invalid character '‘' (U+2018)\n"
     ]
    }
   ],
   "source": [
    "var3 = [ ‘DS’ , ’ML’ , ‘Python’ ]"
   ]
  },
  {
   "cell_type": "code",
   "execution_count": 26,
   "id": "6a431058-35e4-4deb-9e14-c0c14cf0d10f",
   "metadata": {},
   "outputs": [
    {
     "ename": "NameError",
     "evalue": "name 'var3' is not defined",
     "output_type": "error",
     "traceback": [
      "\u001b[0;31m---------------------------------------------------------------------------\u001b[0m",
      "\u001b[0;31mNameError\u001b[0m                                 Traceback (most recent call last)",
      "Cell \u001b[0;32mIn[26], line 1\u001b[0m\n\u001b[0;32m----> 1\u001b[0m \u001b[38;5;28mtype\u001b[39m(\u001b[43mvar3\u001b[49m)\n",
      "\u001b[0;31mNameError\u001b[0m: name 'var3' is not defined"
     ]
    }
   ],
   "source": [
    "type(var3)"
   ]
  },
  {
   "cell_type": "code",
   "execution_count": null,
   "id": "cc286acd-8bad-4222-a073-12dd2a58d438",
   "metadata": {},
   "outputs": [],
   "source": [
    "var4 = 1"
   ]
  },
  {
   "cell_type": "code",
   "execution_count": 20,
   "id": "82d7db10-71aa-4cb5-946d-5f7635015865",
   "metadata": {},
   "outputs": [
    {
     "data": {
      "text/plain": [
       "int"
      ]
     },
     "execution_count": 20,
     "metadata": {},
     "output_type": "execute_result"
    }
   ],
   "source": [
    "type(var4)"
   ]
  },
  {
   "cell_type": "code",
   "execution_count": null,
   "id": "15a90e8a-7932-44c6-9f73-82def7e752e0",
   "metadata": {},
   "outputs": [],
   "source": [
    "#Q3. Explain the use of the following operators using an example:\n"
   ]
  },
  {
   "cell_type": "code",
   "execution_count": 27,
   "id": "719ac5e2-8040-45ff-a15d-254e1a1c5e3b",
   "metadata": {},
   "outputs": [
    {
     "data": {
      "text/plain": [
       "4.0"
      ]
     },
     "execution_count": 27,
     "metadata": {},
     "output_type": "execute_result"
    }
   ],
   "source": [
    "#The / operator is used for diving the number.\n",
    "8/2"
   ]
  },
  {
   "cell_type": "code",
   "execution_count": 28,
   "id": "d3b7f325-097d-428c-a05f-8b7ccffb4e38",
   "metadata": {},
   "outputs": [
    {
     "data": {
      "text/plain": [
       "0"
      ]
     },
     "execution_count": 28,
     "metadata": {},
     "output_type": "execute_result"
    }
   ],
   "source": [
    "# The modulas opertor gives the remainder of division\n",
    "8%2"
   ]
  },
  {
   "cell_type": "code",
   "execution_count": 29,
   "id": "11c638fd-8700-495b-8bc0-4a74c4186196",
   "metadata": {},
   "outputs": [
    {
     "data": {
      "text/plain": [
       "4"
      ]
     },
     "execution_count": 29,
     "metadata": {},
     "output_type": "execute_result"
    }
   ],
   "source": [
    "#  this opertor gives the floor of number\n",
    "8//2"
   ]
  },
  {
   "cell_type": "code",
   "execution_count": null,
   "id": "6ae188f1-fce1-47f8-ad20-421750f1d8bb",
   "metadata": {},
   "outputs": [],
   "source": [
    "# This operator is used to find the power of number."
   ]
  },
  {
   "cell_type": "code",
   "execution_count": 30,
   "id": "aff50d00-e543-41d4-9199-77c1a2f83e01",
   "metadata": {},
   "outputs": [
    {
     "data": {
      "text/plain": [
       "8"
      ]
     },
     "execution_count": 30,
     "metadata": {},
     "output_type": "execute_result"
    }
   ],
   "source": [
    "2**3 "
   ]
  },
  {
   "cell_type": "code",
   "execution_count": null,
   "id": "8f61b486-4068-4b31-8be2-a1bf82e47323",
   "metadata": {},
   "outputs": [],
   "source": [
    "#Q4. Create a list of length 10 of your choice containing multiple types of data. Using for loop print the\n",
    "#element and its data type."
   ]
  },
  {
   "cell_type": "code",
   "execution_count": 37,
   "id": "b4f3df17-f9c0-454b-910a-d8799eb7b6a7",
   "metadata": {},
   "outputs": [
    {
     "name": "stdout",
     "output_type": "stream",
     "text": [
      "1\n",
      "2\n",
      "3\n",
      "4\n",
      "5\n",
      "Data\n",
      "True\n",
      "Science\n",
      "list\n",
      "skill\n",
      "8.456\n"
     ]
    }
   ],
   "source": [
    "l=[1,2,3,4,5,\"Data\", True, \"Science\",\"list\",\"skill\",8.456]\n",
    "for i in l:\n",
    "    print (i)"
   ]
  },
  {
   "cell_type": "code",
   "execution_count": null,
   "id": "a3963e9d-a483-43a4-b9eb-f04a3f2e1b54",
   "metadata": {},
   "outputs": [],
   "source": [
    "l=[1,2,3,4,5,\"Data\", True, \"Science\",\"list\",\"skill\",8.456]\n",
    "for i in l:\n",
    "    print(type(i))"
   ]
  },
  {
   "cell_type": "code",
   "execution_count": 40,
   "id": "dcccd472-3cd7-4fbb-bce7-38cf7bf60d79",
   "metadata": {},
   "outputs": [
    {
     "data": {
      "text/plain": [
       "float"
      ]
     },
     "execution_count": 40,
     "metadata": {},
     "output_type": "execute_result"
    }
   ],
   "source": [
    "type(i)"
   ]
  },
  {
   "cell_type": "code",
   "execution_count": null,
   "id": "4b0031a5-b68d-412c-9578-ec13d767722f",
   "metadata": {},
   "outputs": [],
   "source": [
    "#Using a while loop, verify if the number A is purely divisible by number B and if so then how many\n",
    "#times it can be divisible."
   ]
  },
  {
   "cell_type": "code",
   "execution_count": null,
   "id": "0ab435b2-ffe2-45b9-b91e-86316a880da7",
   "metadata": {},
   "outputs": [],
   "source": []
  },
  {
   "cell_type": "code",
   "execution_count": null,
   "id": "2da93f8d-7ca8-4bcd-a5eb-78cbf91b9e54",
   "metadata": {},
   "outputs": [],
   "source": []
  },
  {
   "cell_type": "code",
   "execution_count": null,
   "id": "8313b5d5-3f3f-49a5-92c5-020158aa1d9a",
   "metadata": {},
   "outputs": [],
   "source": [
    "#Create a list containing 25 int type data. Using for loop and if-else condition print if the element is\n",
    "#divisible by 3 or not."
   ]
  },
  {
   "cell_type": "code",
   "execution_count": 76,
   "id": "869bcb78-4d9d-4619-bdf1-bbb97a2373e4",
   "metadata": {},
   "outputs": [
    {
     "name": "stdout",
     "output_type": "stream",
     "text": [
      "3\n",
      "6\n",
      "9\n",
      "66\n",
      "30\n",
      "99\n",
      "54\n",
      "87\n",
      "87\n",
      "900\n",
      "33\n"
     ]
    }
   ],
   "source": [
    "l=[2,3,5,6,7,8,9,66,30,99,34,23,43,54,87,34,65,87,98,900,33,32,43,65,76,31]\n",
    "for i in l:\n",
    "    if i % 3 == 0:\n",
    "        print(i)\n",
    "   \n",
    "    "
   ]
  },
  {
   "cell_type": "code",
   "execution_count": null,
   "id": "da60ea57-cd17-43aa-803e-3f4f02805ce5",
   "metadata": {},
   "outputs": [],
   "source": [
    "#Q7. What do you understand about mutable and immutable data types? Give examples for both showing\n",
    "#this property."
   ]
  },
  {
   "cell_type": "code",
   "execution_count": 77,
   "id": "900b2310-27ba-432d-8833-386d494199ce",
   "metadata": {},
   "outputs": [],
   "source": [
    "l=[1,2,3,4,5,\"Data\", True, \"Science\",\"list\",\"skill\",8.456]"
   ]
  },
  {
   "cell_type": "code",
   "execution_count": 78,
   "id": "5259a4b2-2714-4a05-b001-94853fbe4001",
   "metadata": {},
   "outputs": [],
   "source": [
    "l[7]=False"
   ]
  },
  {
   "cell_type": "code",
   "execution_count": 79,
   "id": "6bd0402d-b464-4af0-a6da-17f77b3a286c",
   "metadata": {},
   "outputs": [
    {
     "data": {
      "text/plain": [
       "[1, 2, 3, 4, 5, 'Data', True, False, 'list', 'skill', 8.456]"
      ]
     },
     "execution_count": 79,
     "metadata": {},
     "output_type": "execute_result"
    }
   ],
   "source": [
    "l"
   ]
  },
  {
   "cell_type": "code",
   "execution_count": null,
   "id": "e9ed489b-3bc3-454a-a8a7-a3015890b54c",
   "metadata": {},
   "outputs": [],
   "source": [
    "#In the list we can change the index number value called as mutuable"
   ]
  },
  {
   "cell_type": "code",
   "execution_count": 85,
   "id": "b5340d49-db21-4793-9caf-bdb950194ab1",
   "metadata": {},
   "outputs": [],
   "source": [
    "s=\"Data Science\""
   ]
  },
  {
   "cell_type": "code",
   "execution_count": 86,
   "id": "68fb52ed-d6cd-4fcb-801d-9f519d370d03",
   "metadata": {},
   "outputs": [
    {
     "data": {
      "text/plain": [
       "'Data Science'"
      ]
     },
     "execution_count": 86,
     "metadata": {},
     "output_type": "execute_result"
    }
   ],
   "source": [
    "s"
   ]
  },
  {
   "cell_type": "code",
   "execution_count": 87,
   "id": "32302d10-9919-4944-a042-e0521e2fbd0f",
   "metadata": {},
   "outputs": [
    {
     "ename": "TypeError",
     "evalue": "'str' object does not support item assignment",
     "output_type": "error",
     "traceback": [
      "\u001b[0;31m---------------------------------------------------------------------------\u001b[0m",
      "\u001b[0;31mTypeError\u001b[0m                                 Traceback (most recent call last)",
      "Cell \u001b[0;32mIn[87], line 1\u001b[0m\n\u001b[0;32m----> 1\u001b[0m \u001b[43ms\u001b[49m\u001b[43m[\u001b[49m\u001b[38;5;241;43m3\u001b[39;49m\u001b[43m]\u001b[49m\u001b[38;5;241m=\u001b[39mb\n",
      "\u001b[0;31mTypeError\u001b[0m: 'str' object does not support item assignment"
     ]
    }
   ],
   "source": [
    "s[3]=b"
   ]
  },
  {
   "cell_type": "code",
   "execution_count": null,
   "id": "fe65df8d-35c2-429e-8137-0c894e8cc219",
   "metadata": {},
   "outputs": [],
   "source": [
    "#we can not change the index number value in string called as imutable"
   ]
  }
 ],
 "metadata": {
  "kernelspec": {
   "display_name": "Python 3 (ipykernel)",
   "language": "python",
   "name": "python3"
  },
  "language_info": {
   "codemirror_mode": {
    "name": "ipython",
    "version": 3
   },
   "file_extension": ".py",
   "mimetype": "text/x-python",
   "name": "python",
   "nbconvert_exporter": "python",
   "pygments_lexer": "ipython3",
   "version": "3.10.8"
  }
 },
 "nbformat": 4,
 "nbformat_minor": 5
}
